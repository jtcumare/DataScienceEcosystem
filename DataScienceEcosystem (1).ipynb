{
 "cells": [
  {
   "cell_type": "markdown",
   "id": "a0b62f9c-c9dd-4f27-bca8-b68ffbd761e9",
   "metadata": {},
   "source": [
    "# Data Science Tools and Ecosystem"
   ]
  },
  {
   "cell_type": "markdown",
   "id": "6f687d15-3843-400a-b5b0-fef6db538b7f",
   "metadata": {},
   "source": [
    "**In this notebook, Data Science Tools and Ecosystem are summarized**"
   ]
  },
  {
   "cell_type": "markdown",
   "id": "7ac3b2a4-0f81-4b21-af2e-313ff03b08c1",
   "metadata": {},
   "source": [
    "**Objectives:**"
   ]
  },
  {
   "cell_type": "markdown",
   "id": "ada15d3e-052a-4eb6-b062-f0bad28d0f2f",
   "metadata": {},
   "source": [
    "* Bibliotecas para Data Science\n",
    "* Herramientas para Data Science\n",
    "* Lenguajes populares usadso en Data Science\n"
   ]
  },
  {
   "cell_type": "markdown",
   "id": "073742f8-61e5-4944-aca2-af3fc82badbd",
   "metadata": {},
   "source": [
    "***Some of the popular languages that Data Scientists use are:***"
   ]
  },
  {
   "cell_type": "markdown",
   "id": "ea7f91fb-125d-4c5d-bbd1-44705d82f14a",
   "metadata": {},
   "source": [
    "* R.\n",
    "* Python.\n",
    "* SQL.\n",
    "* Java.\n",
    "* Scala.\n",
    "* Julia.\n",
    "* MATLAB."
   ]
  },
  {
   "cell_type": "markdown",
   "id": "d7a45a60-9353-441f-a8a6-00c877bbd968",
   "metadata": {},
   "source": [
    "***Some of the commonly used libraries used by Data Scientists include:***"
   ]
  },
  {
   "cell_type": "markdown",
   "id": "57f9bbcd-c64f-4942-9883-f1e72fb0e25a",
   "metadata": {},
   "source": [
    "1. NumPy\n",
    "2. Pandas\n",
    "3. Matplotlib\n",
    "4. TensorFlow"
   ]
  },
  {
   "cell_type": "markdown",
   "id": "01825eef-ce70-484b-9d6c-ef87a52422dc",
   "metadata": {},
   "source": [
    "|Data Science Tools |\n",
    "| ------ | \n",
    "| Python | \n",
    "| Apache Spark | \n",
    "| MongoDB | \n",
    "| Apache Cassandra | "
   ]
  },
  {
   "cell_type": "markdown",
   "id": "ec9ec2d0-3d59-4014-95c4-e54d60e65194",
   "metadata": {},
   "source": [
    "### Below are a few examples of evaluating arithmetic expressions in Python ###"
   ]
  },
  {
   "cell_type": "code",
   "execution_count": 19,
   "id": "574429ff-2c96-40be-a63e-2a70397a48ff",
   "metadata": {},
   "outputs": [
    {
     "data": {
      "text/plain": [
       "200"
      ]
     },
     "execution_count": 19,
     "metadata": {},
     "output_type": "execute_result"
    }
   ],
   "source": [
    "25*8"
   ]
  },
  {
   "cell_type": "code",
   "execution_count": 21,
   "id": "2f91a081-21d8-4fd7-bad3-dcc5191d3a7d",
   "metadata": {},
   "outputs": [
    {
     "data": {
      "text/plain": [
       "11"
      ]
     },
     "execution_count": 21,
     "metadata": {},
     "output_type": "execute_result"
    }
   ],
   "source": [
    "6+5"
   ]
  },
  {
   "cell_type": "code",
   "execution_count": 29,
   "id": "4a8634c4-2182-4729-9006-b8e8cf04ddd0",
   "metadata": {},
   "outputs": [],
   "source": [
    "# This a simple arithmetic expression to mutiply then add integers"
   ]
  },
  {
   "cell_type": "code",
   "execution_count": 25,
   "id": "413ccf82-597d-4b83-897f-7468ec9233c9",
   "metadata": {},
   "outputs": [
    {
     "data": {
      "text/plain": [
       "17"
      ]
     },
     "execution_count": 25,
     "metadata": {},
     "output_type": "execute_result"
    }
   ],
   "source": [
    " (3*4)+5"
   ]
  },
  {
   "cell_type": "code",
   "execution_count": 31,
   "id": "d4966923-48c0-4426-b0ff-f9afc99190e3",
   "metadata": {},
   "outputs": [],
   "source": [
    "# This will convert 200 minutes to hours by diving by 60"
   ]
  },
  {
   "cell_type": "code",
   "execution_count": 1,
   "id": "531afe88-d9ab-41be-8f54-aef571eb2c57",
   "metadata": {},
   "outputs": [
    {
     "name": "stdout",
     "output_type": "stream",
     "text": [
      "3.3333333333333335\n"
     ]
    }
   ],
   "source": [
    " dato = 200\n",
    " horas = dato/60\n",
    " print(horas)"
   ]
  },
  {
   "cell_type": "code",
   "execution_count": null,
   "id": "efd984d7-3641-4f67-8c45-1b5a38e8c9f6",
   "metadata": {},
   "outputs": [],
   "source": [
    "## Author"
   ]
  },
  {
   "cell_type": "markdown",
   "id": "f76ea77d-1546-4b85-91fc-8d36de09bb27",
   "metadata": {},
   "source": [
    "Jose Tomas Cumare"
   ]
  },
  {
   "cell_type": "code",
   "execution_count": null,
   "id": "63da65e5-86f1-4a4d-8b5f-ebd6e7dda386",
   "metadata": {},
   "outputs": [],
   "source": []
  }
 ],
 "metadata": {
  "kernelspec": {
   "display_name": "Python 3 (ipykernel)",
   "language": "python",
   "name": "python3"
  },
  "language_info": {
   "codemirror_mode": {
    "name": "ipython",
    "version": 3
   },
   "file_extension": ".py",
   "mimetype": "text/x-python",
   "name": "python",
   "nbconvert_exporter": "python",
   "pygments_lexer": "ipython3",
   "version": "3.12.4"
  }
 },
 "nbformat": 4,
 "nbformat_minor": 5
}
